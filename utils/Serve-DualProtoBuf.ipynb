{
 "cells": [
  {
   "cell_type": "code",
   "execution_count": null,
   "metadata": {
    "collapsed": false
   },
   "outputs": [],
   "source": [
    "import tensorflow as tf\n",
    "import numpy as np"
   ]
  },
  {
   "cell_type": "code",
   "execution_count": null,
   "metadata": {
    "collapsed": false
   },
   "outputs": [],
   "source": [
    "tf.reset_default_graph()\n",
    "\n",
    "with open('../model/Trained_Graphs/encoder_frozen_model.pb', 'rb') as f:\n",
    "    fileContent = f.read()\n",
    "graph_def = tf.GraphDef()\n",
    "graph_def.ParseFromString(fileContent)\n",
    "tf.import_graph_def(graph_def, input_map=None, return_elements=None, name='encoder', op_dict=None, producer_op_list=None)\n",
    "graph = tf.get_default_graph()\n",
    "tensors_encoder = [n.name for n in tf.get_default_graph().as_graph_def().node]\n",
    "\n",
    "def init_encoder():\n",
    "    sess = tf.Session()\n",
    "    return sess\n",
    "\n",
    "def encoder_forward_pass(sess, image_path):\n",
    "    in1 = graph.get_tensor_by_name(\"encoder/InputImage:0\")\n",
    "    out1 = graph.get_tensor_by_name(\"encoder/Preprocessed_JPG:0\")\n",
    "    feed_dict = {in1: image_path}\n",
    "    prepro_image = sess.run(out1, feed_dict=feed_dict)\n",
    "    in2 = graph.get_tensor_by_name(\"encoder/import/InputImage:0\")\n",
    "    outfinal = graph.get_tensor_by_name(\"encoder/import/InceptionV4/Logits/AvgPool_1a/AvgPool:0\")\n",
    "    feed_dict = {in2: prepro_image}\n",
    "    features = sess.run(outfinal, feed_dict=feed_dict)[0][0]\n",
    "    return features"
   ]
  },
  {
   "cell_type": "code",
   "execution_count": null,
   "metadata": {
    "collapsed": true
   },
   "outputs": [],
   "source": [
    "sess = init_encoder()"
   ]
  },
  {
   "cell_type": "code",
   "execution_count": null,
   "metadata": {
    "collapsed": false
   },
   "outputs": [],
   "source": [
    "features = encoder_forward_pass(sess, \"../Images/dog2.jpg\")"
   ]
  },
  {
   "cell_type": "code",
   "execution_count": null,
   "metadata": {
    "collapsed": false
   },
   "outputs": [],
   "source": [
    "def IDs_to_Words(ID_batch):\n",
    "        return [idxtow[word] for IDs in ID_batch for word in IDs]\n",
    "\n",
    "tf.reset_default_graph()\n",
    "\n",
    "with open('../model/Trained_Graphs/decoder_frozen_model.pb', 'rb') as f:\n",
    "    fileContent = f.read()\n",
    "\n",
    "graph_def = tf.GraphDef()\n",
    "graph_def.ParseFromString(fileContent)\n",
    "tf.import_graph_def(graph_def, input_map=None, return_elements=None, name='decoder', op_dict=None, producer_op_list=None)\n",
    "graph = tf.get_default_graph()\n",
    "tensors_decoder = [n.name for n in tf.get_default_graph().as_graph_def().node]\n",
    "\n",
    "wtoidx = np.load(\"../Dataset/wordmap.npy\").tolist()\n",
    "idxtow = dict(zip(wtoidx.values(), wtoidx.keys()))\n",
    "\n",
    "with open(\"../model/Decoder/DecoderOutputs.txt\", 'r') as fr:\n",
    "    outputs= fr.read()\n",
    "    outputs=outputs.split('\\n')[:-1]\n",
    "\n",
    "def init_decoder():\n",
    "    sess = tf.Session()\n",
    "    return sess\n",
    "\n",
    "def decoder_forward_pass(sess, features):\n",
    "    feed_dict = {graph.get_tensor_by_name(\"decoder/Input_Features:0\"): features}\n",
    "    prob_tensor = []\n",
    "    for i,outs in enumerate(outputs):\n",
    "        prob_tensor.append(graph.get_tensor_by_name(\"decoder/\"+outs+\":0\"))\n",
    "    prob = sess.run(prob_tensor, feed_dict=feed_dict)\n",
    "    return \" \".join(IDs_to_Words(prob)).split(\"</S>\")[0]"
   ]
  },
  {
   "cell_type": "code",
   "execution_count": null,
   "metadata": {
    "collapsed": true
   },
   "outputs": [],
   "source": [
    "sess= init_decoder()"
   ]
  },
  {
   "cell_type": "code",
   "execution_count": null,
   "metadata": {
    "collapsed": false
   },
   "outputs": [],
   "source": [
    "print decoder_forward_pass(sess,features)"
   ]
  },
  {
   "cell_type": "code",
   "execution_count": null,
   "metadata": {
    "collapsed": true
   },
   "outputs": [],
   "source": []
  }
 ],
 "metadata": {
  "anaconda-cloud": {},
  "kernelspec": {
   "display_name": "Python [conda root]",
   "language": "python",
   "name": "conda-root-py"
  },
  "language_info": {
   "codemirror_mode": {
    "name": "ipython",
    "version": 2
   },
   "file_extension": ".py",
   "mimetype": "text/x-python",
   "name": "python",
   "nbconvert_exporter": "python",
   "pygments_lexer": "ipython2",
   "version": "2.7.12"
  }
 },
 "nbformat": 4,
 "nbformat_minor": 2
}
