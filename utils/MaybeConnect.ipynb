{
 "cells": [
  {
   "cell_type": "code",
   "execution_count": 1,
   "metadata": {
    "collapsed": true
   },
   "outputs": [],
   "source": [
    "import tensorflow as tf\n",
    "from tensorflow.python.framework import graph_util"
   ]
  },
  {
   "cell_type": "code",
   "execution_count": 2,
   "metadata": {
    "collapsed": false
   },
   "outputs": [],
   "source": [
    "encpb=\"../model/Trained_Graphs/encoder_frozen_model.pb\""
   ]
  },
  {
   "cell_type": "code",
   "execution_count": 3,
   "metadata": {
    "collapsed": false
   },
   "outputs": [],
   "source": [
    "with open(encpb, 'rb') as f:\n",
    "    fileContent = f.read()\n",
    "graph_def = tf.GraphDef()\n",
    "graph_def.ParseFromString(fileContent)\n",
    "output1=\"Output_Features:0\""
   ]
  },
  {
   "cell_type": "code",
   "execution_count": 4,
   "metadata": {
    "collapsed": false
   },
   "outputs": [],
   "source": [
    "output1 = tf.import_graph_def(\n",
    "    graph_def,\n",
    "    input_map=None,\n",
    "    return_elements=[output1],\n",
    "    name='encoder')\n",
    "graph = tf.get_default_graph()"
   ]
  },
  {
   "cell_type": "code",
   "execution_count": 5,
   "metadata": {
    "collapsed": false
   },
   "outputs": [
    {
     "data": {
      "text/plain": [
       "[<tf.Tensor 'encoder/Output_Features:0' shape=(1, 1536) dtype=float32>]"
      ]
     },
     "execution_count": 5,
     "metadata": {},
     "output_type": "execute_result"
    }
   ],
   "source": [
    "output1"
   ]
  },
  {
   "cell_type": "code",
   "execution_count": 6,
   "metadata": {
    "collapsed": true
   },
   "outputs": [],
   "source": [
    "decpb = \"../model/Trained_Graphs/decoder_frozen_model.pb\""
   ]
  },
  {
   "cell_type": "code",
   "execution_count": 7,
   "metadata": {
    "collapsed": false
   },
   "outputs": [],
   "source": [
    "with open(decpb, 'rb') as f:\n",
    "    fileContent = f.read()\n",
    "graph_def = tf.GraphDef()\n",
    "graph_def.ParseFromString(fileContent)\n",
    "input2=\"Input_Features:0\""
   ]
  },
  {
   "cell_type": "code",
   "execution_count": 8,
   "metadata": {
    "collapsed": false
   },
   "outputs": [],
   "source": [
    "tf.import_graph_def(\n",
    "    graph_def,\n",
    "    input_map={input2:output1[0]},\n",
    "    return_elements=None,\n",
    "    name='decoder')\n",
    "graph = tf.get_default_graph()"
   ]
  },
  {
   "cell_type": "code",
   "execution_count": null,
   "metadata": {
    "collapsed": true
   },
   "outputs": [],
   "source": [
    "#output_node_names = [\n",
    "#        \"Preprocessed_JPG\",\n",
    "#        \"Preprocessed_PNG\",\n",
    "#        \"OutputFeatures\"]"
   ]
  },
  {
   "cell_type": "code",
   "execution_count": 13,
   "metadata": {
    "collapsed": false
   },
   "outputs": [
    {
     "data": {
      "text/plain": [
       "['LSTM/word_0',\n",
       " 'LSTM/word_1',\n",
       " 'LSTM/word_2',\n",
       " 'LSTM/word_3',\n",
       " 'LSTM/word_4',\n",
       " 'LSTM/word_5',\n",
       " 'LSTM/word_6',\n",
       " 'LSTM/word_7',\n",
       " 'LSTM/word_8',\n",
       " 'LSTM/word_9',\n",
       " 'LSTM/word_10',\n",
       " 'LSTM/word_11',\n",
       " 'LSTM/word_12',\n",
       " 'LSTM/word_13',\n",
       " 'LSTM/word_14',\n",
       " 'LSTM/word_15',\n",
       " 'LSTM/word_16',\n",
       " 'LSTM/word_17',\n",
       " 'LSTM/word_18',\n",
       " 'LSTM/word_19',\n",
       " 'LSTM/word_20',\n",
       " 'LSTM/word_21']"
      ]
     },
     "execution_count": 13,
     "metadata": {},
     "output_type": "execute_result"
    }
   ],
   "source": [
    "with open(\"../model/Decoder/DecoderOutputs.txt\", 'r') as f:\n",
    "    output = f.read()\n",
    "    prefix = \"\"\n",
    "    outputs=[]\n",
    "    outputs += [prefix + o for o in output.split('\\n')[:-1]]\n",
    "outputs"
   ]
  },
  {
   "cell_type": "code",
   "execution_count": 19,
   "metadata": {
    "collapsed": false
   },
   "outputs": [],
   "source": [
    "import numpy as np\n",
    "wtoidx = np.load(\"../Dataset/wordmap.npy\").tolist()\n",
    "idxtow = dict(zip(wtoidx.values(), wtoidx.keys()))\n",
    "def IDs_to_Words(ID_batch):\n",
    "    return [idxtow[word] for IDs in ID_batch for word in IDs]"
   ]
  },
  {
   "cell_type": "code",
   "execution_count": 20,
   "metadata": {
    "collapsed": false
   },
   "outputs": [
    {
     "name": "stdout",
     "output_type": "stream",
     "text": [
      "a man in a blue shirt and a woman in a white shirt are walking down a dirt road \n"
     ]
    }
   ],
   "source": [
    "with tf.Session() as sess:\n",
    "    in1 = graph.get_tensor_by_name(\"encoder/InputFile:0\")\n",
    "    out1 = graph.get_tensor_by_name(\"encoder/Preprocessed_JPG:0\")\n",
    "    feed_dict = {in1: \"../Images/3.jpg\"}\n",
    "    prepro_image = sess.run(out1, feed_dict=feed_dict)\n",
    "    in2 = graph.get_tensor_by_name(\"encoder/import/InputImage:0\")\n",
    "    sentence = []\n",
    "    for i,outs in enumerate(outputs):\n",
    "        sentence.append(graph.get_tensor_by_name(\"decoder/\"+outs+\":0\"))\n",
    "    feed_dict = {in2:prepro_image}\n",
    "    prob= sess.run(sentence, feed_dict=feed_dict)\n",
    "    print \" \".join(IDs_to_Words(prob)).split(\"</S>\")[0]"
   ]
  },
  {
   "cell_type": "code",
   "execution_count": null,
   "metadata": {
    "collapsed": true
   },
   "outputs": [],
   "source": []
  }
 ],
 "metadata": {
  "anaconda-cloud": {},
  "kernelspec": {
   "display_name": "Python [conda root]",
   "language": "python",
   "name": "conda-root-py"
  },
  "language_info": {
   "codemirror_mode": {
    "name": "ipython",
    "version": 2
   },
   "file_extension": ".py",
   "mimetype": "text/x-python",
   "name": "python",
   "nbconvert_exporter": "python",
   "pygments_lexer": "ipython2",
   "version": "2.7.12"
  }
 },
 "nbformat": 4,
 "nbformat_minor": 1
}
